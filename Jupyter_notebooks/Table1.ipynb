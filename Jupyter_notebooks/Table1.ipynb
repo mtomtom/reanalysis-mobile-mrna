{
 "cells": [
  {
   "cell_type": "code",
   "execution_count": 32,
   "metadata": {},
   "outputs": [
    {
     "name": "stdout",
     "output_type": "stream",
     "text": [
      "INFO: Pandarallel will run on 10 workers.\n",
      "INFO: Pandarallel will use standard multiprocessing data transfer (pipe) to transfer data between the main process and workers.\n"
     ]
    }
   ],
   "source": [
    "## Import statements\n",
    "import pandas as pd\n",
    "import baymobil as baymob\n",
    "from pandarallel import pandarallel\n",
    "\n",
    "pandarallel.initialize(progress_bar = False)"
   ]
  },
  {
   "cell_type": "code",
   "execution_count": 33,
   "metadata": {},
   "outputs": [],
   "source": [
    "## Define functions\n",
    "## Function to calculating Bayes Factors for the Thieme data, based on a set error rate (the error rate is defined as 1 in \"error\")\n",
    "\n",
    "def calculate_bf(row, error):\n",
    "        \"\"\"\n",
    "        Calculate the Bayes Factor (BF) for a given row.\n",
    "        The function handles cases where N and n values may be in comma-separated format.\n",
    "        \"\"\"\n",
    "        bf_list = []\n",
    "\n",
    "        # Separate into integers and handle multiple values\n",
    "        endo_list, distal_list = [], []\n",
    "        \n",
    "        if \",\" in str(row.endo):\n",
    "            endo_list = [int(n) for n in row.endo.split(\",\") if \"NA\" not in n]\n",
    "            distal_list = [int(n) for n in row.distal.split(\",\") if \"NA\" not in n]\n",
    "        else:\n",
    "            try:\n",
    "                endo_list = [int(row.endo)]\n",
    "                distal_list = [int(row.distal)]\n",
    "            except ValueError:\n",
    "               # print(\"NAN encountered in row:\", row)\n",
    "                return \"NA\"\n",
    "        \n",
    "        # Calculate the Bayes Factor for each pair of N and n\n",
    "        for endo, distal in zip(endo_list, distal_list):\n",
    "            N = endo + distal\n",
    "            n = distal\n",
    "            bf = baymob.fasterpostN2(error, 1, error, 1, N, n, 10)\n",
    "            bf_value = min(max(bf[2], -2), 2)  # Cap the BF values between -2 and 2\n",
    "            bf_list.append(bf_value)\n",
    "\n",
    "        return sum(bf_list)"
   ]
  },
  {
   "cell_type": "code",
   "execution_count": 34,
   "metadata": {},
   "outputs": [
    {
     "name": "stderr",
     "output_type": "stream",
     "text": [
      "/Users/tomkinsm/miniconda3/lib/python3.12/site-packages/openpyxl/worksheet/_reader.py:329: UserWarning: Unknown extension is not supported and will be removed\n",
      "  warn(msg)\n"
     ]
    }
   ],
   "source": [
    "## Load in the Excel table from the supplementary material: https://www.nature.com/articles/nplants201525#Sec15\n",
    "df = pd.read_excel(\"../Data/thieme_original_data.xlsx\", sheet_name=\"SNP in all transcripts\", header=[0, 1])\n",
    "\n",
    "# Merge the two levels of the header into a single level with a more meaningful separator\n",
    "df.columns = [':'.join(col).strip() for col in df.columns.values]\n",
    "\n",
    "## Drop the extra columns from the dataframe\n",
    "df = df.drop(columns=df.filter(like=\"Status.\").columns).copy()"
   ]
  },
  {
   "cell_type": "code",
   "execution_count": 35,
   "metadata": {},
   "outputs": [],
   "source": [
    "## Data taken from: \"Endogenous Arabidopsis messenger RNAs transported to distant tissues\" Thieme et al. 2015\n",
    "## Code to run for table 1\n",
    "\n",
    "exps = [col for col in df.columns if \"*\" in col]\n",
    "\n",
    "## The columns we are using: COL base counts, PED base counts\n",
    "exps_split = [exp.split(\":\")[0] for exp in exps]\n",
    "exps = set(exps_split)\n",
    "df_thieme_list = []\n",
    "\n",
    "for exp in exps:\n",
    "    col = exp + \":COL\"\n",
    "    ped = exp + \":PED\"\n",
    "    mobile = exp + \":Status\"\n",
    "    \n",
    "    col_base_counts = df.filter(like=col)\n",
    "    ped_base_counts = df.filter(like=ped)\n",
    "    mobile_status = df.filter(like=mobile)\n",
    "\n",
    "    # Rename columns\n",
    "    col_base_counts.columns = [col]\n",
    "    ped_base_counts.columns = [ped]\n",
    "    mobile_status.columns = [mobile]\n",
    "    \n",
    "    df_thieme_list.append(pd.concat([ped_base_counts, col_base_counts, mobile_status], axis=1))\n",
    "\n",
    "# Convert df_thieme_list to a DataFrame\n",
    "df_thieme = pd.concat(df_thieme_list, axis=1)\n",
    "df_thieme[\"ID\"] = df.filter(like=\"Transcript:\")"
   ]
  },
  {
   "cell_type": "code",
   "execution_count": 37,
   "metadata": {},
   "outputs": [],
   "source": [
    "output1000_list = []\n",
    "output10000_list = []\n",
    "\n",
    "for exp in exps:\n",
    "\n",
    "    output1000 = df_thieme.filter(like=exp).copy()\n",
    "    output10000 = df_thieme.filter(like=exp).copy()\n",
    "\n",
    "    ## Rename columns that include the word \"Status\" as \"Status\"\n",
    "    output1000.rename(columns={exp + \":Status\": \"Status\"}, inplace=True)\n",
    "    output10000.rename(columns={exp + \":Status\": \"Status\"}, inplace=True)\n",
    "    \n",
    "    ## Get whether the sample is from col or ped\n",
    "    if \"Ps*\" in exp or \"Pr*\" in exp:\n",
    "         output1000.rename(columns={exp + \":PED\": \"endo\", exp + \":COL\": \"distal\"}, inplace=True)\n",
    "         output10000.rename(columns={exp + \":PED\": \"endo\", exp + \":COL\": \"distal\"}, inplace=True)\n",
    "    elif \"Cs*\" in exp or \"Cr*\" in exp:\n",
    "         output1000.rename(columns={exp + \":COL\": \"endo\", exp + \":PED\": \"distal\"}, inplace=True)\n",
    "         output10000.rename(columns={exp + \":COL\": \"endo\", exp + \":PED\": \"distal\"}, inplace=True)\n",
    "    else:\n",
    "        print(\"Error\")\n",
    "\n",
    "    output1000[\"log10BF\"] = output1000.parallel_apply(calculate_bf, args=(1000,), axis=1)\n",
    "    output10000[\"log10BF\"] = output10000.parallel_apply(calculate_bf, args=(10000,), axis=1)\n",
    "    output1000[\"exp\"] = exp\n",
    "    output10000[\"exp\"] = exp\n",
    "    output1000.dropna(inplace=True)\n",
    "    output10000.dropna(inplace=True)\n",
    "\n",
    "    ## Uncomment the below to see the results for each experiment\n",
    "\n",
    "    #print(\"Experiment: \", exp)\n",
    "\n",
    "    #print(\"Error = 1 in 1000\")\n",
    "    #print(\"Total Thieme find to be mobile:\")\n",
    "    #print(len(output1000[output1000[\"Status\"] == \"mobile\"]))\n",
    "    #print(\"Total BF find to be mobile:\")\n",
    "    #print(len(output1000[output1000[\"log10BF\"] >= 1]))\n",
    "\n",
    "    #print(\"Error = 1 in 10000\")\n",
    "    #print(len(output10000[output10000[\"Status\"] == \"mobile\"]))\n",
    "    #print(\"Total Thieme find to be mobile:\")\n",
    "    #print(\"Total BF find to be mobile:\")\n",
    "    #print(len(output10000[output10000[\"log10BF\"] >= 1]))\n",
    "\n",
    "    output1000_list.append(output1000)\n",
    "    output10000_list.append(output10000)\n",
    "    "
   ]
  },
  {
   "cell_type": "code",
   "execution_count": 131,
   "metadata": {},
   "outputs": [],
   "source": [
    "## Create the final dataframes and add in the transcript information\n",
    "\n",
    "df_output1000 = pd.concat(output1000_list)\n",
    "df_output10000 = pd.concat(output10000_list)\n",
    "\n",
    "df_output1000[\"ID\"] = df_thieme[\"ID\"]\n",
    "df_output10000[\"ID\"] = df_thieme[\"ID\"]\n",
    "\n",
    "df_output1000[\"Transcript\"] = df_output1000[\"ID\"].apply(lambda x: x.split(\".\")[0])\n",
    "df_output10000[\"Transcript\"] = df_output10000[\"ID\"].apply(lambda x: x.split(\".\")[0])"
   ]
  },
  {
   "cell_type": "code",
   "execution_count": 134,
   "metadata": {},
   "outputs": [],
   "source": [
    "## Save the processed data\n",
    "df_output1000.to_csv(\"../Data/thieme_bf_1000.csv\")\n",
    "df_output10000.to_csv(\"../Data/thieme_bf_10000.csv\")"
   ]
  },
  {
   "cell_type": "code",
   "execution_count": null,
   "metadata": {},
   "outputs": [],
   "source": [
    "## For each error rates, print the number of transcripts with a log10BF >= 1, and the amount found mobile in Thieme et al. 2015\n",
    "\n",
    "## Import the data\n",
    "df_output1000 = pd.read_csv(\"../Data/thieme_bf_1000.csv\")\n",
    "df_output10000 = pd.read_csv(\"../Data/thieme_bf_10000.csv\")\n",
    "\n",
    "## 1 in 1000\n",
    "thieme_mobile = set(df_output1000[df_output1000[\"Status\"]==\"mobile\"][\"Transcript\"].to_list())\n",
    "bf_mobile = set(df_output1000[df_output1000[\"log10BF\"]>=1][\"Transcript\"].to_list())\n",
    "\n",
    "print(f\"Thieme mobile: {len(thieme_mobile)}\")\n",
    "print(f\"logBF>=1: {len(bf_mobile)}\")\n",
    "\n",
    "## 1 in 10000\n",
    "thieme_mobile = set(df_output10000[df_output10000[\"Status\"]==\"mobile\"][\"Transcript\"].to_list())\n",
    "bf_mobile = set(df_output10000[df_output10000[\"log10BF\"]>=1][\"Transcript\"].to_list())\n",
    "\n",
    "print(f\"Thieme mobile: {len(thieme_mobile)}\")\n",
    "print(f\"logBF >= 1: {len(bf_mobile)}\")"
   ]
  },
  {
   "cell_type": "code",
   "execution_count": 27,
   "metadata": {},
   "outputs": [
    {
     "name": "stdout",
     "output_type": "stream",
     "text": [
      "Index(['Gene ID:Unnamed: 0_level_1', 'Annotation:Unnamed: 1_level_1',\n",
      "       'Mobile RNAs detected in the 8 different graft tissues as listed on the right:Unnamed: 2_level_1',\n",
      "       'V. girdiana scion-1:RPKM', 'V. girdiana scion-1:No. source reads',\n",
      "       'V. girdiana scion-1:No. reads', 'V. girdiana scion-1:No. unique reads',\n",
      "       'V. palmata scion-2:RPKM', 'V. palmata scion-2:No. source reads',\n",
      "       'V. palmata scion-2:No. reads', 'V. palmata scion-2:No. unique reads',\n",
      "       'V. vinifera cv. 'Riesling' scion (pH 5.5)-3:RPKM',\n",
      "       'V. vinifera cv. 'Riesling' scion (pH 5.5)-3:No. source reads',\n",
      "       'V. vinifera cv. 'Riesling' scion (pH 5.5)-3:No. reads',\n",
      "       'V. vinifera cv. 'Riesling' scion (pH 5.5)-3:No. unique reads',\n",
      "       'V. vinifera cv. 'Riesling' scion (pH 6.5)-4:RPKM',\n",
      "       'V. vinifera cv. 'Riesling' scion (pH 6.5)-4:No. source reads',\n",
      "       'V. vinifera cv. 'Riesling' scion (pH 6.5)-4:No. reads',\n",
      "       'V. vinifera cv. 'Riesling' scion (pH 6.5)-4:No. unique reads',\n",
      "       'V. palmata rootstock-5:RPKM',\n",
      "       'V. palmata rootstock-5:No. source reads',\n",
      "       'V. palmata rootstock-5:No. reads',\n",
      "       'V. palmata rootstock-5:No. unique reads',\n",
      "       'V. girdiana rootstock-6:RPKM',\n",
      "       'V. girdiana rootstock-6:No. source reads',\n",
      "       'V. girdiana rootstock-6:No. reads',\n",
      "       'V. girdiana rootstock-6:No. unique reads',\n",
      "       'Vitis hybrid  'C3309' rootstock (pH 5.5)-7:RPKM',\n",
      "       'Vitis hybrid  'C3309' rootstock (pH 5.5)-7:No. source reads',\n",
      "       'Vitis hybrid  'C3309' rootstock (pH 5.5)-7:No. reads',\n",
      "       'Vitis hybrid  'C3309' rootstock (pH 5.5)-7:No. unique reads',\n",
      "       'Vitis hybrid  'C3309' rootstock (pH 6.5)-8:RPKM',\n",
      "       'Vitis hybrid  'C3309' rootstock (pH 6.5)-8:No. source reads',\n",
      "       'Vitis hybrid  'C3309' rootstock (pH 6.5)-8:No. reads',\n",
      "       'Vitis hybrid  'C3309' rootstock (pH 6.5)-8:No. unique reads'],\n",
      "      dtype='object')\n"
     ]
    },
    {
     "name": "stderr",
     "output_type": "stream",
     "text": [
      "/var/folders/t5/q1tt12hd2sg29kw894zcfbtm000b_5/T/ipykernel_93717/3684955062.py:17: FutureWarning: Downcasting behavior in `replace` is deprecated and will be removed in a future version. To retain the old behavior, explicitly call `result.infer_objects(copy=False)`. To opt-in to the future behavior, set `pd.set_option('future.no_silent_downcasting', True)`\n",
      "  df_vgir.replace(\"-\", 0, inplace=True)\n"
     ]
    }
   ],
   "source": [
    "## Same process as above, but for the grapevine data\n",
    "import pandas as pd\n",
    "\n",
    "df = pd.read_excel(\"../Data/Vitis_vinifera_mobile_mRNA.xlsx\", sheet_name=\"Dataset S2\", skiprows=1, header=[0, 1])\n",
    "\n",
    "# Merge the two levels of the header into a single level with a more meaningful separator\n",
    "df.columns = [':'.join(col).strip() for col in df.columns.values]\n",
    "\n",
    "## Get the columns relating to V. girdiana rootstock\n",
    "df_vgir = df.filter(like=\"V. girdiana scion-1\").copy()\n",
    "\n",
    "df_vgir[\"SNP\"] = df[\"Gene ID:Unnamed: 0_level_1\"]\n",
    "\n",
    "## Replace the dashes with 0s\n",
    "df_vgir.replace(\"-\", 0, inplace=True)\n",
    "\n",
    "df_vgir.rename(columns={\"V. girdiana scion-1:No. source reads\": \"endo\", \"V. girdiana scion-1:No. reads\": \"distal\"}, inplace=True)\n",
    "\n",
    "df_vgir[\"N\"] = df_vgir[\"endo\"] + df_vgir[\"distal\"]\n",
    "df_vgir[\"n\"] = df_vgir[\"distal\"]\n",
    "\n"
   ]
  },
  {
   "cell_type": "code",
   "execution_count": 31,
   "metadata": {},
   "outputs": [
    {
     "name": "stdout",
     "output_type": "stream",
     "text": [
      "Warning: 2203 Zero values were removed.\n",
      "INFO: Pandarallel will run on 10 workers.\n",
      "INFO: Pandarallel will use standard multiprocessing data transfer (pipe) to transfer data between the main process and workers.\n"
     ]
    },
    {
     "data": {
      "application/vnd.jupyter.widget-view+json": {
       "model_id": "cb4b30de89644814b6e51f603e0a4f78",
       "version_major": 2,
       "version_minor": 0
      },
      "text/plain": [
       "VBox(children=(HBox(children=(IntProgress(value=0, description='0.00%', max=113), Label(value='0 / 113'))), HB…"
      ]
     },
     "metadata": {},
     "output_type": "display_data"
    },
    {
     "name": "stdout",
     "output_type": "stream",
     "text": [
      "Numbers of mobile found in paper:\n",
      "1130\n",
      "No. consistent with error of 0.1%:\n",
      "945\n",
      "Warning: 2203 Zero values were removed.\n",
      "INFO: Pandarallel will run on 10 workers.\n",
      "INFO: Pandarallel will use standard multiprocessing data transfer (pipe) to transfer data between the main process and workers.\n"
     ]
    },
    {
     "data": {
      "application/vnd.jupyter.widget-view+json": {
       "model_id": "d5525258de7e409e953e140083406644",
       "version_major": 2,
       "version_minor": 0
      },
      "text/plain": [
       "VBox(children=(HBox(children=(IntProgress(value=0, description='0.00%', max=113), Label(value='0 / 113'))), HB…"
      ]
     },
     "metadata": {},
     "output_type": "display_data"
    },
    {
     "name": "stdout",
     "output_type": "stream",
     "text": [
      "Numbers of mobile found in paper:\n",
      "1130\n",
      "No. consistent with error of 0.01%:\n",
      "384\n"
     ]
    }
   ],
   "source": [
    "error1 = 1000\n",
    "error2 = 10000\n",
    "\n",
    "## Run for 1 in 1000\n",
    "\n",
    "df_vgir[\"Nh1\"] = error1\n",
    "df_vgir[\"nh1\"] = 1\n",
    "df_vgir[\"Nh2\"] = error1\n",
    "df_vgir[\"nh2\"] = 1\n",
    "\n",
    "## Convert N and n to integers\n",
    "df_vgir[\"N\"] = df_vgir[\"N\"].astype(int)\n",
    "df_vgir[\"n\"] = df_vgir[\"n\"].astype(int)\n",
    "\n",
    "df_vgir1000 = baymob.run_bayes(df_vgir,10)\n",
    "print(\"Numbers of mobile found in paper:\")\n",
    "print(len(df_vgir1000))\n",
    "print(\"No. consistent with error of 0.1%:\")\n",
    "print(len(df_vgir1000) - len(df_vgir1000[df_vgir1000[\"log10BF\"]>=1]))\n",
    "\n",
    "## Run for 1 in 10000\n",
    "\n",
    "df_vgir[\"Nh1\"] = error2\n",
    "df_vgir[\"nh1\"] = 1\n",
    "df_vgir[\"Nh2\"] = error2\n",
    "df_vgir[\"nh2\"] = 1\n",
    "\n",
    "## Convert N and n to integers\n",
    "df_vgir[\"N\"] = df_vgir[\"N\"].astype(int)\n",
    "df_vgir[\"n\"] = df_vgir[\"n\"].astype(int)\n",
    "\n",
    "df_vgir10000 = baymob.run_bayes(df_vgir,10)\n",
    "print(\"Numbers of mobile found in paper:\")\n",
    "print(len(df_vgir10000))\n",
    "print(\"No. consistent with error of 0.01%:\")\n",
    "print(len(df_vgir10000) - len(df_vgir10000[df_vgir10000[\"log10BF\"]>=1]))"
   ]
  }
 ],
 "metadata": {
  "kernelspec": {
   "display_name": "base",
   "language": "python",
   "name": "python3"
  },
  "language_info": {
   "codemirror_mode": {
    "name": "ipython",
    "version": 3
   },
   "file_extension": ".py",
   "mimetype": "text/x-python",
   "name": "python",
   "nbconvert_exporter": "python",
   "pygments_lexer": "ipython3",
   "version": "3.12.7"
  },
  "orig_nbformat": 4
 },
 "nbformat": 4,
 "nbformat_minor": 2
}
