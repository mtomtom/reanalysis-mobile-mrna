{
 "cells": [
  {
   "cell_type": "code",
   "execution_count": 18,
   "metadata": {},
   "outputs": [
    {
     "name": "stdout",
     "output_type": "stream",
     "text": [
      "INFO: Pandarallel will run on 10 workers.\n",
      "INFO: Pandarallel will use standard multiprocessing data transfer (pipe) to transfer data between the main process and workers.\n"
     ]
    }
   ],
   "source": [
    "## Code to extract the reads counts for the SNP positions and their neighbours\n",
    "## The first step of the process is to create dataframes of read counts for each SNP and their neighbours. \n",
    "## Only the CSV files will be included in the repository, as the vcf files are too large, but here we show how they can be reconstructed from the raw data.\n",
    "\n",
    "import pandas as pd\n",
    "import gzip\n",
    "import regex as re\n",
    "## If you want to parallise parts of the code, you can use the pandarallel package\n",
    "from pandarallel import pandarallel\n",
    "\n",
    "pandarallel.initialize()\n",
    "\n",
    "## For the grapevine data, the SNP positions used in the paper are not known, so we extract the SNP positions from the vcf files.\n",
    "## (Code is commented out as it takes a long time to run)\n",
    "#!bcftools view BAM/vitis_vinifera/Vgir_scion.SRR2015295_1.fastq.raw.bcf > BAM/vitis_vinifera/Vgir_scion.SRR2015295_1.fastq.raw.vcf\n",
    "#!bcftools view -v snps BAM/vitis_vinifera/Vgir_scion.SRR2015295_1.fastq.raw.vcf -o Vgir_scion_snps_only.vcf\n",
    "\n",
    "## We then extract the SNP positions from the vcf file: the remaining code in this cell takes ~ 4 minutes to run.\n",
    "## Process the VCF file with the SNP positions (vcf file is not included in the repository)\n",
    "vcf_file = \"../Data/Vgir_scion_snps_only.vcf\"\n",
    "\n",
    "## Get the names of the columns\n",
    "def get_vcf_names(vcf_path):\n",
    "    ## Check if file is gzipped\n",
    "    if vcf_path.endswith(\".gz\"):\n",
    "        with gzip.open(vcf_path, \"rt\") as ifile:\n",
    "          for line in ifile:\n",
    "            if line.startswith(\"#CHROM\"):\n",
    "                  vcf_names = [x for x in line.split('\\t')]\n",
    "                  break\n",
    "    else:\n",
    "      with open(vcf_path, \"rt\") as ifile:\n",
    "            for line in ifile:\n",
    "              if line.startswith(\"#CHROM\"):\n",
    "                    vcf_names = [x for x in line.split('\\t')]\n",
    "                    break\n",
    "    ifile.close()\n",
    "    return vcf_names\n",
    "\n",
    "## Function to parse the vcf file and extract the read counts\n",
    "def parseInfo(row):\n",
    "    info_split = row.split(\";\")\n",
    "    info = [i for i in info_split if i.startswith('AD=')]\n",
    "    output = re.findall(r'\\d+', info[0])\n",
    "    return output\n",
    "\n",
    "## This function parses the vcf file and extracts the read counts for the SNPs\n",
    "def parse_vcf(vcf_file):\n",
    "  df_list = []\n",
    "  for chunk in vcf_file:\n",
    "      ## NB: If you choose not to use pandarallel, this line can be replaced with the following:\n",
    "      ## chunk[\"INFO\"] = chunk[\"INFO\"].apply(lambda x: parseInfo(x))\n",
    "      chunk[\"INFO\"] = chunk[\"INFO\"].parallel_apply(lambda x: parseInfo(x))\n",
    "      df_list.append(chunk)\n",
    "\n",
    "  df_final_snps = pd.concat(df_list)\n",
    "  return df_final_snps\n",
    "\n"
   ]
  },
  {
   "cell_type": "code",
   "execution_count": 20,
   "metadata": {},
   "outputs": [],
   "source": [
    "## Process the grapevine vcf file containing the SNP positions\n",
    "names = get_vcf_names(vcf_file)\n",
    "df_vcf_snps = pd.read_csv(vcf_file, comment='#', chunksize=10000, sep=r'\\s+', header=None, names=names,usecols=[\"#CHROM\",\"POS\",\"REF\",\"ALT\",\"QUAL\",\"INFO\"])\n",
    "df_final_snps = parse_vcf(df_vcf_snps)\n",
    "\n",
    "grapevine_snps = df_final_snps[\"#CHROM\"].astype(str) + \"_\" + df_final_snps[\"POS\"].astype(str)\n",
    "grapevine_snp_list = grapevine_snps.to_list()\n",
    "# Convert the list to a pandas Series and save it to a CSV file\n",
    "pd.Series(grapevine_snp_list).to_csv(\"../Data/grapevine_snp_list.csv\", index=False)\n",
    "\n",
    "\n",
    "## For the Thieme data, we use the SNPs provided in the supplementary data of the paper\n",
    "## NB: the SNP list is incomplete, as the full list is not available, so we reconstructed the list from the data. \n",
    "thieme_snps = pd.read_csv(\"../Data/thieme_og_snp_list.csv\")\n",
    "thieme_snp_list = thieme_snps[\"SNP\"].to_list()"
   ]
  },
  {
   "cell_type": "code",
   "execution_count": 10,
   "metadata": {},
   "outputs": [],
   "source": [
    "## The next step is to create the list of neighbours from the list of SNPs\n",
    "\n",
    "def get_neighbours(snp_list):\n",
    "    neighbours_list = []\n",
    "    for snp in snp_list:\n",
    "        chrom = snp.split(\"_\")[0]\n",
    "        pos = int(snp.split(\"_\")[1])\n",
    "        neighbours_list.append(chrom + \"_\" + str(pos + 1))\n",
    "        neighbours_list.append(chrom + \"_\" + str(pos - 1))\n",
    "    return neighbours_list\n",
    "\n",
    "thieme_neighbours = get_neighbours(thieme_snp_list)\n",
    "grapevine_neighbours = get_neighbours(grapevine_snp_list)\n",
    "\n",
    "## Save the SNP and neighbour positions to a txt file\n",
    "# Combine SNPs and neighbors into a single list\n",
    "combined_thieme_list = thieme_snp_list + thieme_neighbours\n",
    "combined_grapevine_list = grapevine_snp_list + grapevine_neighbours\n",
    "\n",
    "# Sort the combined list\n",
    "sorted_thieme_list = sorted(combined_thieme_list, key=lambda x: (x.split(\"_\")[0], int(x.split(\"_\")[1])))\n",
    "sorted_grapevine_list = sorted(combined_grapevine_list, key=lambda x: (x.split(\"_\")[0], int(x.split(\"_\")[1])))\n",
    "\n",
    "# Write the sorted list to the file in the format \"Chr + #chrom \\t pos\"\n",
    "with open(\"../Data/thieme_positions.txt\", \"w\") as f:\n",
    "    for snp in sorted_thieme_list:\n",
    "        chrom, pos = snp.split(\"_\")\n",
    "        f.write(f\"{chrom}\\t{pos}\\n\")\n",
    "\n",
    "with open(\"../Data/grapevine_positions.txt\", \"w\") as f:\n",
    "    for snp in sorted_grapevine_list:\n",
    "        chrom, pos = snp.split(\"_\")\n",
    "        f.write(f\"{chrom}\\t{pos}\\n\")\n"
   ]
  },
  {
   "cell_type": "code",
   "execution_count": null,
   "metadata": {},
   "outputs": [],
   "source": [
    "## We then filter the files to extract the read counts for the SNP positions and their neighbours\n",
    "## Example code here, but commented out due to the length of time to run it\n",
    "\n",
    "#!bgzip ../Data/Vgir_scion.SRR2015295_1.fastq.raw.vcf\n",
    "\n",
    "# Sort the gzip file\n",
    "#!bcftools sort ../Data/Vgir_scion.SRR2015295_1.fastq.raw.vcf.gz -o ../Data/Vgir_scion.SRR2015295_1.fastq.raw.sorted.vcf.gz\n",
    "\n",
    "# Index the VCF file (takes about 2 minutes)\n",
    "#!tabix -p vcf ../Data/Vgir_scion.SRR2015295_1.fastq.raw.sorted.vcf.gz\n",
    "\n",
    "# Extract specific SNP positions\n",
    "#!tabix ../Data/Vgir_scion.SRR2015295_1.fastq.raw.vcf.gz ../Data/formatted_positions.txt > ../Data/filtered.vcf\n",
    "\n",
    "# Filter by the SNP positions file - this is takes a long time\n",
    "#!bcftools view --threads 4 -R ../Data/positions.txt -O v -o ../Data/filtered_output_grapevine.vcf ../Data/Vgir_scion.SRR2015295_1.fastq.raw.sorted.vcf.gz\n",
    "\n"
   ]
  },
  {
   "cell_type": "code",
   "execution_count": 3,
   "metadata": {},
   "outputs": [],
   "source": [
    "## We now have filtered files for Thieme and grapevine data, which we can use to extract the read counts for the SNP positions and their neighbours\n",
    "import pandas as pd\n",
    "\n",
    "## Run for the thieme data\n",
    "filtered_vcf_thieme = \"../Data/filtered_output_thieme.vcf\"\n",
    "names = get_vcf_names(filtered_vcf_thieme)\n",
    "df_vcf_thieme = pd.read_csv(filtered_vcf_thieme, comment='#', chunksize=10000, sep=r'\\s+', header=None, names=names,usecols=[\"#CHROM\",\"POS\",\"REF\",\"ALT\",\"QUAL\",\"INFO\"])\n",
    "df_final_thieme = parse_vcf(df_vcf_thieme)\n",
    "\n",
    "## Run for the grapevine data\n",
    "filtered_vcf_grapevine = \"../Data/filtered_output_grapevine.vcf\"\n",
    "names = get_vcf_names(filtered_vcf_grapevine)\n",
    "df_vcf_grapevine = pd.read_csv(filtered_vcf_grapevine, comment='#', chunksize=10000, sep=r'\\s+', header=None, names=names,usecols=[\"#CHROM\",\"POS\",\"REF\",\"ALT\",\"QUAL\",\"INFO\"])\n",
    "df_final_grapevine = parse_vcf(df_vcf_grapevine)"
   ]
  },
  {
   "cell_type": "code",
   "execution_count": 6,
   "metadata": {},
   "outputs": [],
   "source": [
    "## Save the processed data\n",
    "df_final_thieme.to_csv(\"../Data/df_final_thieme.csv\")\n",
    "df_final_grapevine.to_csv(\"../Data/df_final_grapevine.csv\")"
   ]
  },
  {
   "cell_type": "code",
   "execution_count": 24,
   "metadata": {},
   "outputs": [
    {
     "data": {
      "image/png": "[encoded data removed]",
      "text/plain": [
       "<Figure size 640x480 with 1 Axes>"
      ]
     },
     "metadata": {},
     "output_type": "display_data"
    },
    {
     "name": "stderr",
     "output_type": "stream",
     "text": [
      "/var/folders/t5/q1tt12hd2sg29kw894zcfbtm000b_5/T/ipykernel_49367/1702998102.py:29: DtypeWarning: Columns (1) have mixed types. Specify dtype option on import or set low_memory=False.\n",
      "  df_final_grapevine = pd.read_csv(\"../Data/df_final_grapevine.csv\")\n"
     ]
    },
    {
     "data": {
      "image/png": "[encoded data removed]",
      "text/plain": [
       "<Figure size 640x480 with 1 Axes>"
      ]
     },
     "metadata": {},
     "output_type": "display_data"
    }
   ],
   "source": [
    "## Plot the data\n",
    "import matplotlib.pyplot as plt\n",
    "\n",
    "## Thieme. Load in the SNP positions\n",
    "df_thieme_snps = pd.read_csv(\"../Data/thieme_og_snp_list.csv\")\n",
    "thieme_snps = df_thieme_snps[\"SNP\"].to_list()\n",
    "\n",
    "## Load in the processed dataframe\n",
    "df_final_thieme = pd.read_csv(\"../Data/df_final_thieme.csv\")\n",
    "\n",
    "## Ensure INFO column is parsed correctly\n",
    "df_final_thieme[\"INFO\"] = df_final_thieme[\"INFO\"].apply(lambda x: eval(x) if isinstance(x, str) else x)\n",
    "\n",
    "## Create the [n:N] ratio column as the ratio of the second element of the INFO column to the sum of the first and second\n",
    "df_final_thieme[\"n:N\"] = df_final_thieme[\"INFO\"].apply(lambda x: int(x[1])/(int(x[0]) + int(x[1])) if len(x) > 1 and (int(x[0]) + int(x[1])) != 0 else None)\n",
    "\n",
    "## Create the SNP column\n",
    "df_final_thieme[\"SNP\"] = df_final_thieme[\"#CHROM\"].astype(str) + \"_\" + df_final_thieme[\"POS\"].astype(str)\n",
    "\n",
    "plt.hist(df_final_thieme[df_final_thieme[\"SNP\"].isin(thieme_snps)][\"n:N\"], bins = 100, alpha = 0.5, density = True, range = (0.0001,0.05), label = \"SNP\")\n",
    "plt.hist(df_final_thieme[~df_final_thieme[\"SNP\"].isin(thieme_snps)][\"n:N\"], bins = 100, alpha = 0.5, density = True, range = (0.0001,0.05), label = \"Neighbours\")\n",
    "plt.legend()\n",
    "plt.show()\n",
    "\n",
    "## Grapevine (processed files are too big to include in the repository)\n",
    "df_grapevine_snps = pd.read_csv(\"../Data/grapevine_snp_list.csv\", sep = \"\\t\", header = None, low_memory=False)\n",
    "grapevine_snps = df_grapevine_snps[0].to_list()\n",
    "\n",
    "df_final_grapevine = pd.read_csv(\"../Data/df_final_grapevine.csv\",low_memory=False)\n",
    "\n",
    "df_final_grapevine[\"INFO\"] = df_final_grapevine[\"INFO\"].apply(lambda x: eval(x) if isinstance(x, str) else x)\n",
    "\n",
    "df_final_grapevine[\"n:N\"] = df_final_grapevine[\"INFO\"].apply(lambda x: int(x[1])/(int(x[0]) + int(x[1])) if len(x) > 1 and (int(x[0]) + int(x[1])) != 0 else None)\n",
    "\n",
    "df_final_grapevine[\"SNP\"] = df_final_grapevine[\"#CHROM\"].astype(str) + \"_\" + df_final_grapevine[\"POS\"].astype(str)\n",
    "\n",
    "plt.hist(df_final_grapevine[df_final_grapevine[\"SNP\"].isin(grapevine_snps)][\"n:N\"], bins = 100, alpha = 0.5, density = True, range = (0.0001,0.05), label = \"SNP\")\n",
    "plt.hist(df_final_grapevine[~df_final_grapevine[\"SNP\"].isin(grapevine_snps)][\"n:N\"], bins = 100, alpha = 0.5, density = True, range = (0.0001,0.05), label = \"Neighbours\")\n",
    "plt.legend()\n",
    "plt.show()"
   ]
  },
  {
   "cell_type": "code",
   "execution_count": 30,
   "metadata": {},
   "outputs": [],
   "source": [
    "## Save the outputs to a csv file, for plotting with gnuplot \n",
    "\n",
    "df_final_thieme[df_final_thieme[\"SNP\"].isin(thieme_snps)][\"n:N\"].to_csv(\"../Data/df_final_thieme_snps.csv\", index=None, header=None)\n",
    "df_final_thieme[~df_final_thieme[\"SNP\"].isin(thieme_snps)][\"n:N\"].to_csv(\"../Data/df_final_thieme_neighbours.csv\", index=None, header=None)\n",
    "\n",
    "## Grapevine (processed files are too big to include in the repository)\n",
    "df_final_grapevine[df_final_grapevine[\"SNP\"].isin(grapevine_snps)][\"n:N\"].to_csv(\"../Data/df_final_grapevine_snps.csv\", index=None, header=None)\n",
    "df_final_grapevine[~df_final_grapevine[\"SNP\"].isin(grapevine_snps)][\"n:N\"].to_csv(\"../Data/df_final_grapevine_neighbours.csv\", index=None, header=None)"
   ]
  },
  {
   "cell_type": "code",
   "execution_count": null,
   "metadata": {},
   "outputs": [],
   "source": []
  }
 ],
 "metadata": {
  "kernelspec": {
   "display_name": "base",
   "language": "python",
   "name": "python3"
  },
  "language_info": {
   "codemirror_mode": {
    "name": "ipython",
    "version": 3
   },
   "file_extension": ".py",
   "mimetype": "text/x-python",
   "name": "python",
   "nbconvert_exporter": "python",
   "pygments_lexer": "ipython3",
   "version": "3.12.4"
  }
 },
 "nbformat": 4,
 "nbformat_minor": 2
}
